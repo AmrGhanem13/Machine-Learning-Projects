{
 "cells": [
  {
   "cell_type": "markdown",
   "metadata": {},
   "source": [
    "<a id=\"description\"></a>\n",
    "\n",
    "<div style=\"text-align:center; border-radius:15px 50px; padding:15px; color:white; margin:0; font-size:200%; font-family:Pacifico; background-color:#0ce90f; overflow:hidden\"><b>Project Description</b></div>\n",
    "<div style=\"padding: 40px; border-color: #50A20E; border-radius: 10px; box-shadow: 0 2px 4px 0 rgba(0, 0, 0, 0.1); border: 2px solid #50A20E;\"> <p> This project focuses on <b>Tweet Sentiment Classification</b> using deep learning techniques. It aims to analyze and classify tweets related to the COVID-19 pandemic into Multi sentiment classes: </p> <ul> <li><b>Extremely Positive</b></li>  <li><b>Positive</b></li> <li><b>Neutral</b></li> <li><b>Negative</b></li> <li><b>Extremely Negative</b></li> </ul> <h3 style=\"color:#2E86C1;\">🔍 Objective</h3> <p> To develop an effective sentiment analysis model that accurately detects the emotional tone of tweets, enabling better understanding of public opinion during crises. </p> <h3 style=\"color:#2E86C1;\">📊 Dataset</h3> <p> The dataset includes thousands of tweets labeled with sentiment classes. Each tweet is accompanied by metadata such as username, tweet date, and content. </p> <h3 style=\"color:#2E86C1;\">🛠️ Technologies Used</h3> <ul> <li><b>Python</b> – Programming language</li> <li><b>Keras & TensorFlow</b> – For building and training the neural network</li> <li><b>GloVe</b> – Pre-trained word embeddings (300D)</li> <li><b>BiLSTM</b> – To capture forward and backward context in text</li> <li><b>NLTK / Regex</b> – For text preprocessing</li> </ul> <h3 style=\"color:#2E86C1;\">🧠 Model Architecture</h3> <ul> <li><b>Embedding Layer</b> – Initialized with GloVe vectors</li> <li><b>Bidirectional LSTM</b> – Captures contextual information in both directions</li> <li><b>Dropout</b> – Prevents overfitting</li> <li><b>Dense Output</b> – Sigmoid activation for binary classification</li> </ul> <h3 style=\"color:#2E86C1;\">✅ Evaluation</h3> <p> The model was evaluated using: </p> <ul> <li><b>Accuracy</b></li> <li><b>Precision</b></li> <li><b>Recall</b></li> <li><b>F1-Score</b></li> </ul> <p> The final model achieved a <b>weighted F1-score of 78%</b>, showing strong performance in classifying tweet sentiments. </p> <h3 style=\"color:#2E86C1;\">🚀 Impact</h3> <p> This sentiment analysis system can be used for: </p> <ul> <li>Real-time monitoring of public opinion</li> <li>Social media trend analysis</li> <li>Supporting crisis communication strategies</li> </ul> </div>"
   ]
  },
  {
   "cell_type": "markdown",
   "metadata": {},
   "source": [
    "<a id=\"About\"></a>\n",
    "# <div style=\"text-align:center; border-radius:15px 50px; padding:15px; color:white; margin:0; font-size:100%; font-family:Pacifico; background-color:#0ce90f; overflow:hidden\"><b>About Author</b></div>\n",
    "\n",
    "<div style=\"padding: 20px; border-color: #50A20E; border-radius: 10px; box-shadow: 0 2px 4px 0 rgba(0, 0, 0, 0.1); border: 2px solid #50A20E;\">\n",
    "    <p>\n",
    "      I am <b>Amr Ghanem</b>, a 4th-year student at the Faculty of Engineering, Tanta University, with a passion for AI and Data Science. My journey into the world of technology is driven by curiosity and enthusiasm to explore the endless possibilities that data and AI offer. I am continuously learning and honing my skills in data analysis, machine learning, and AI to build a strong foundation for my future career. My goal is to contribute to innovative projects and make a meaningful impact in the tech industry.\n",
    "    </p>\n",
    "    <p>\n",
    "        You can find more about me on my:<br>\n",
    "        <a href=\"https://www.linkedin.com/in/amr-ghanem-306b392b9/\" target=\"_blank\">LinkedIn</a>.<br>\n",
    "        <a href=\"https://www.kaggle.com/amrgghanem\" target=\"_blank\">Kaggle</a>.<br>\n",
    "        Feel free to connect and reach out for any collaboration or queries!\n",
    "    </p>\n",
    "</div>"
   ]
  },
  {
   "cell_type": "markdown",
   "metadata": {},
   "source": [
    "<a id=\"1\"></a>\n",
    "# <div style=\"text-align:center; border-radius:15px 50px; padding:15px; color:white; margin:0; font-size:100%; font-family:Pacifico; background-color:#0ce90f; overflow:hidden\"><b>Importing Libraries</b></div>"
   ]
  },
  {
   "cell_type": "code",
   "execution_count": 1,
   "metadata": {
    "_cell_guid": "b1076dfc-b9ad-4769-8c92-a6c4dae69d19",
    "_uuid": "8f2839f25d086af736a60e9eeb907d3b93b6e0e5",
    "execution": {
     "iopub.execute_input": "2025-05-12T21:31:33.476245Z",
     "iopub.status.busy": "2025-05-12T21:31:33.475565Z",
     "iopub.status.idle": "2025-05-12T21:31:37.489011Z",
     "shell.execute_reply": "2025-05-12T21:31:37.488253Z",
     "shell.execute_reply.started": "2025-05-12T21:31:33.476225Z"
    },
    "trusted": true
   },
   "outputs": [
    {
     "name": "stderr",
     "output_type": "stream",
     "text": [
      "2025-05-12 21:31:34.752298: E external/local_xla/xla/stream_executor/cuda/cuda_fft.cc:477] Unable to register cuFFT factory: Attempting to register factory for plugin cuFFT when one has already been registered\n",
      "WARNING: All log messages before absl::InitializeLog() is called are written to STDERR\n",
      "E0000 00:00:1747085494.775216     331 cuda_dnn.cc:8310] Unable to register cuDNN factory: Attempting to register factory for plugin cuDNN when one has already been registered\n",
      "E0000 00:00:1747085494.786105     331 cuda_blas.cc:1418] Unable to register cuBLAS factory: Attempting to register factory for plugin cuBLAS when one has already been registered\n",
      "[nltk_data] Downloading package stopwords to /usr/share/nltk_data...\n",
      "[nltk_data]   Package stopwords is already up-to-date!\n"
     ]
    },
    {
     "data": {
      "text/plain": [
       "True"
      ]
     },
     "execution_count": 1,
     "metadata": {},
     "output_type": "execute_result"
    }
   ],
   "source": [
    "import pandas as pd\n",
    "import numpy as np\n",
    "import re\n",
    "from sklearn.model_selection import train_test_split\n",
    "from sklearn.metrics import classification_report\n",
    "import nltk\n",
    "from nltk.corpus import stopwords\n",
    "from tensorflow.keras.preprocessing.text import Tokenizer\n",
    "from tensorflow.keras.preprocessing.sequence import pad_sequences\n",
    "from tensorflow.keras.models import Sequential\n",
    "from tensorflow.keras.layers import Embedding, LSTM, Dense, Dropout,Bidirectional\n",
    "from keras.callbacks import ReduceLROnPlateau\n",
    "from keras.callbacks import EarlyStopping\n",
    "from tqdm import tqdm\n",
    "nltk.download('stopwords')"
   ]
  },
  {
   "cell_type": "markdown",
   "metadata": {},
   "source": [
    "<a id=\"1\"></a>\n",
    "# <div style=\"text-align:center; border-radius:15px 50px; padding:15px; color:white; margin:0; font-size:100%; font-family:Pacifico; background-color:#0ce90f; overflow:hidden\"><b>Reading Data</b></div>"
   ]
  },
  {
   "cell_type": "code",
   "execution_count": 2,
   "metadata": {
    "execution": {
     "iopub.execute_input": "2025-05-12T21:31:37.490674Z",
     "iopub.status.busy": "2025-05-12T21:31:37.490267Z",
     "iopub.status.idle": "2025-05-12T21:31:37.687202Z",
     "shell.execute_reply": "2025-05-12T21:31:37.686580Z",
     "shell.execute_reply.started": "2025-05-12T21:31:37.490657Z"
    },
    "trusted": true
   },
   "outputs": [
    {
     "data": {
      "text/html": [
       "<div>\n",
       "<style scoped>\n",
       "    .dataframe tbody tr th:only-of-type {\n",
       "        vertical-align: middle;\n",
       "    }\n",
       "\n",
       "    .dataframe tbody tr th {\n",
       "        vertical-align: top;\n",
       "    }\n",
       "\n",
       "    .dataframe thead th {\n",
       "        text-align: right;\n",
       "    }\n",
       "</style>\n",
       "<table border=\"1\" class=\"dataframe\">\n",
       "  <thead>\n",
       "    <tr style=\"text-align: right;\">\n",
       "      <th></th>\n",
       "      <th>UserName</th>\n",
       "      <th>ScreenName</th>\n",
       "      <th>Location</th>\n",
       "      <th>TweetAt</th>\n",
       "      <th>OriginalTweet</th>\n",
       "      <th>Sentiment</th>\n",
       "    </tr>\n",
       "  </thead>\n",
       "  <tbody>\n",
       "    <tr>\n",
       "      <th>0</th>\n",
       "      <td>3799</td>\n",
       "      <td>48751</td>\n",
       "      <td>London</td>\n",
       "      <td>16-03-2020</td>\n",
       "      <td>@MeNyrbie @Phil_Gahan @Chrisitv https://t.co/i...</td>\n",
       "      <td>Neutral</td>\n",
       "    </tr>\n",
       "    <tr>\n",
       "      <th>1</th>\n",
       "      <td>3800</td>\n",
       "      <td>48752</td>\n",
       "      <td>UK</td>\n",
       "      <td>16-03-2020</td>\n",
       "      <td>advice Talk to your neighbours family to excha...</td>\n",
       "      <td>Positive</td>\n",
       "    </tr>\n",
       "    <tr>\n",
       "      <th>2</th>\n",
       "      <td>3801</td>\n",
       "      <td>48753</td>\n",
       "      <td>Vagabonds</td>\n",
       "      <td>16-03-2020</td>\n",
       "      <td>Coronavirus Australia: Woolworths to give elde...</td>\n",
       "      <td>Positive</td>\n",
       "    </tr>\n",
       "    <tr>\n",
       "      <th>3</th>\n",
       "      <td>3802</td>\n",
       "      <td>48754</td>\n",
       "      <td>NaN</td>\n",
       "      <td>16-03-2020</td>\n",
       "      <td>My food stock is not the only one which is emp...</td>\n",
       "      <td>Positive</td>\n",
       "    </tr>\n",
       "    <tr>\n",
       "      <th>4</th>\n",
       "      <td>3803</td>\n",
       "      <td>48755</td>\n",
       "      <td>NaN</td>\n",
       "      <td>16-03-2020</td>\n",
       "      <td>Me, ready to go at supermarket during the #COV...</td>\n",
       "      <td>Extremely Negative</td>\n",
       "    </tr>\n",
       "  </tbody>\n",
       "</table>\n",
       "</div>"
      ],
      "text/plain": [
       "   UserName  ScreenName   Location     TweetAt  \\\n",
       "0      3799       48751     London  16-03-2020   \n",
       "1      3800       48752         UK  16-03-2020   \n",
       "2      3801       48753  Vagabonds  16-03-2020   \n",
       "3      3802       48754        NaN  16-03-2020   \n",
       "4      3803       48755        NaN  16-03-2020   \n",
       "\n",
       "                                       OriginalTweet           Sentiment  \n",
       "0  @MeNyrbie @Phil_Gahan @Chrisitv https://t.co/i...             Neutral  \n",
       "1  advice Talk to your neighbours family to excha...            Positive  \n",
       "2  Coronavirus Australia: Woolworths to give elde...            Positive  \n",
       "3  My food stock is not the only one which is emp...            Positive  \n",
       "4  Me, ready to go at supermarket during the #COV...  Extremely Negative  "
      ]
     },
     "execution_count": 2,
     "metadata": {},
     "output_type": "execute_result"
    }
   ],
   "source": [
    "df=pd.read_csv('/kaggle/input/covid-19-nlp-text-classification/Corona_NLP_train.csv',encoding='cp437')\n",
    "df.head()"
   ]
  },
  {
   "cell_type": "code",
   "execution_count": 3,
   "metadata": {
    "execution": {
     "iopub.execute_input": "2025-05-12T21:31:37.688077Z",
     "iopub.status.busy": "2025-05-12T21:31:37.687878Z",
     "iopub.status.idle": "2025-05-12T21:31:37.704958Z",
     "shell.execute_reply": "2025-05-12T21:31:37.704153Z",
     "shell.execute_reply.started": "2025-05-12T21:31:37.688061Z"
    },
    "trusted": true
   },
   "outputs": [
    {
     "name": "stdout",
     "output_type": "stream",
     "text": [
      "<class 'pandas.core.frame.DataFrame'>\n",
      "RangeIndex: 41157 entries, 0 to 41156\n",
      "Data columns (total 6 columns):\n",
      " #   Column         Non-Null Count  Dtype \n",
      "---  ------         --------------  ----- \n",
      " 0   UserName       41157 non-null  int64 \n",
      " 1   ScreenName     41157 non-null  int64 \n",
      " 2   Location       32567 non-null  object\n",
      " 3   TweetAt        41157 non-null  object\n",
      " 4   OriginalTweet  41157 non-null  object\n",
      " 5   Sentiment      41157 non-null  object\n",
      "dtypes: int64(2), object(4)\n",
      "memory usage: 1.9+ MB\n"
     ]
    }
   ],
   "source": [
    "df.info()"
   ]
  },
  {
   "cell_type": "markdown",
   "metadata": {},
   "source": [
    "<a id=\"1\"></a>\n",
    "# <div style=\"text-align:center; border-radius:15px 50px; padding:15px; color:white; margin:0; font-size:100%; font-family:Pacifico; background-color:#0ce90f; overflow:hidden\"><b>Dealing With Nulls</b></div>"
   ]
  },
  {
   "cell_type": "code",
   "execution_count": 4,
   "metadata": {
    "execution": {
     "iopub.execute_input": "2025-05-12T21:31:37.707031Z",
     "iopub.status.busy": "2025-05-12T21:31:37.706769Z",
     "iopub.status.idle": "2025-05-12T21:31:37.749563Z",
     "shell.execute_reply": "2025-05-12T21:31:37.749043Z",
     "shell.execute_reply.started": "2025-05-12T21:31:37.707014Z"
    },
    "trusted": true
   },
   "outputs": [
    {
     "data": {
      "text/plain": [
       "0"
      ]
     },
     "execution_count": 4,
     "metadata": {},
     "output_type": "execute_result"
    }
   ],
   "source": [
    "df.duplicated().sum()"
   ]
  },
  {
   "cell_type": "code",
   "execution_count": 5,
   "metadata": {
    "execution": {
     "iopub.execute_input": "2025-05-12T21:31:37.750402Z",
     "iopub.status.busy": "2025-05-12T21:31:37.750203Z",
     "iopub.status.idle": "2025-05-12T21:31:37.762956Z",
     "shell.execute_reply": "2025-05-12T21:31:37.762373Z",
     "shell.execute_reply.started": "2025-05-12T21:31:37.750387Z"
    },
    "trusted": true
   },
   "outputs": [
    {
     "data": {
      "text/plain": [
       "UserName            0\n",
       "ScreenName          0\n",
       "Location         8590\n",
       "TweetAt             0\n",
       "OriginalTweet       0\n",
       "Sentiment           0\n",
       "dtype: int64"
      ]
     },
     "execution_count": 5,
     "metadata": {},
     "output_type": "execute_result"
    }
   ],
   "source": [
    "df.isna().sum()"
   ]
  },
  {
   "cell_type": "code",
   "execution_count": 6,
   "metadata": {
    "execution": {
     "iopub.execute_input": "2025-05-12T21:31:37.763817Z",
     "iopub.status.busy": "2025-05-12T21:31:37.763598Z",
     "iopub.status.idle": "2025-05-12T21:31:37.780024Z",
     "shell.execute_reply": "2025-05-12T21:31:37.779275Z",
     "shell.execute_reply.started": "2025-05-12T21:31:37.763801Z"
    },
    "trusted": true
   },
   "outputs": [],
   "source": [
    "df=df.dropna(axis=1)"
   ]
  },
  {
   "cell_type": "code",
   "execution_count": 7,
   "metadata": {
    "execution": {
     "iopub.execute_input": "2025-05-12T21:31:37.781072Z",
     "iopub.status.busy": "2025-05-12T21:31:37.780774Z",
     "iopub.status.idle": "2025-05-12T21:31:37.798895Z",
     "shell.execute_reply": "2025-05-12T21:31:37.798267Z",
     "shell.execute_reply.started": "2025-05-12T21:31:37.781049Z"
    },
    "trusted": true
   },
   "outputs": [
    {
     "data": {
      "text/plain": [
       "UserName         0\n",
       "ScreenName       0\n",
       "TweetAt          0\n",
       "OriginalTweet    0\n",
       "Sentiment        0\n",
       "dtype: int64"
      ]
     },
     "execution_count": 7,
     "metadata": {},
     "output_type": "execute_result"
    }
   ],
   "source": [
    "df.isna().sum()"
   ]
  },
  {
   "cell_type": "code",
   "execution_count": 8,
   "metadata": {
    "execution": {
     "iopub.execute_input": "2025-05-12T21:31:37.799956Z",
     "iopub.status.busy": "2025-05-12T21:31:37.799641Z",
     "iopub.status.idle": "2025-05-12T21:31:37.811357Z",
     "shell.execute_reply": "2025-05-12T21:31:37.810737Z",
     "shell.execute_reply.started": "2025-05-12T21:31:37.799916Z"
    },
    "trusted": true
   },
   "outputs": [
    {
     "data": {
      "text/plain": [
       "Sentiment\n",
       "Positive              11422\n",
       "Negative               9917\n",
       "Neutral                7713\n",
       "Extremely Positive     6624\n",
       "Extremely Negative     5481\n",
       "Name: count, dtype: int64"
      ]
     },
     "execution_count": 8,
     "metadata": {},
     "output_type": "execute_result"
    }
   ],
   "source": [
    "df['Sentiment'].value_counts()"
   ]
  },
  {
   "cell_type": "markdown",
   "metadata": {},
   "source": [
    "<a id=\"1\"></a>\n",
    "# <div style=\"text-align:center; border-radius:15px 50px; padding:15px; color:white; margin:0; font-size:100%; font-family:Pacifico; background-color:#0ce90f; overflow:hidden\"><b>Data Preprocessing</b></div>"
   ]
  },
  {
   "cell_type": "code",
   "execution_count": 9,
   "metadata": {
    "execution": {
     "iopub.execute_input": "2025-05-12T21:31:37.812351Z",
     "iopub.status.busy": "2025-05-12T21:31:37.812107Z",
     "iopub.status.idle": "2025-05-12T21:31:37.821191Z",
     "shell.execute_reply": "2025-05-12T21:31:37.820505Z",
     "shell.execute_reply.started": "2025-05-12T21:31:37.812330Z"
    },
    "trusted": true
   },
   "outputs": [],
   "source": [
    "def clean_text(text):\n",
    "    text = re.sub(r\"http\\S+|@\\S+|[^A-Za-z\\s]\", \"\", str(text).lower())\n",
    "    return text.strip()"
   ]
  },
  {
   "cell_type": "code",
   "execution_count": 10,
   "metadata": {
    "execution": {
     "iopub.execute_input": "2025-05-12T21:31:37.823964Z",
     "iopub.status.busy": "2025-05-12T21:31:37.823374Z",
     "iopub.status.idle": "2025-05-12T21:31:38.153446Z",
     "shell.execute_reply": "2025-05-12T21:31:38.152905Z",
     "shell.execute_reply.started": "2025-05-12T21:31:37.823946Z"
    },
    "trusted": true
   },
   "outputs": [],
   "source": [
    "df['cleaned_text'] = df['OriginalTweet'].apply(clean_text)"
   ]
  },
  {
   "cell_type": "code",
   "execution_count": 11,
   "metadata": {
    "execution": {
     "iopub.execute_input": "2025-05-12T21:31:38.154295Z",
     "iopub.status.busy": "2025-05-12T21:31:38.154114Z",
     "iopub.status.idle": "2025-05-12T21:31:38.161955Z",
     "shell.execute_reply": "2025-05-12T21:31:38.161336Z",
     "shell.execute_reply.started": "2025-05-12T21:31:38.154281Z"
    },
    "trusted": true
   },
   "outputs": [],
   "source": [
    "sentiment_mapping = {\n",
    "    \"Extremely Negative\": 0,\n",
    "    \"Negative\": 1,\n",
    "    \"Neutral\": 2,\n",
    "    \"Positive\": 3,\n",
    "    \"Extremely Positive\": 4\n",
    "}\n",
    "df['label'] = df['Sentiment'].map(sentiment_mapping)"
   ]
  },
  {
   "cell_type": "code",
   "execution_count": 12,
   "metadata": {
    "execution": {
     "iopub.execute_input": "2025-05-12T21:31:38.162790Z",
     "iopub.status.busy": "2025-05-12T21:31:38.162589Z",
     "iopub.status.idle": "2025-05-12T21:31:38.176541Z",
     "shell.execute_reply": "2025-05-12T21:31:38.175822Z",
     "shell.execute_reply.started": "2025-05-12T21:31:38.162775Z"
    },
    "trusted": true
   },
   "outputs": [
    {
     "data": {
      "text/html": [
       "<div>\n",
       "<style scoped>\n",
       "    .dataframe tbody tr th:only-of-type {\n",
       "        vertical-align: middle;\n",
       "    }\n",
       "\n",
       "    .dataframe tbody tr th {\n",
       "        vertical-align: top;\n",
       "    }\n",
       "\n",
       "    .dataframe thead th {\n",
       "        text-align: right;\n",
       "    }\n",
       "</style>\n",
       "<table border=\"1\" class=\"dataframe\">\n",
       "  <thead>\n",
       "    <tr style=\"text-align: right;\">\n",
       "      <th></th>\n",
       "      <th>UserName</th>\n",
       "      <th>ScreenName</th>\n",
       "      <th>TweetAt</th>\n",
       "      <th>OriginalTweet</th>\n",
       "      <th>Sentiment</th>\n",
       "      <th>cleaned_text</th>\n",
       "      <th>label</th>\n",
       "    </tr>\n",
       "  </thead>\n",
       "  <tbody>\n",
       "    <tr>\n",
       "      <th>0</th>\n",
       "      <td>3799</td>\n",
       "      <td>48751</td>\n",
       "      <td>16-03-2020</td>\n",
       "      <td>@MeNyrbie @Phil_Gahan @Chrisitv https://t.co/i...</td>\n",
       "      <td>Neutral</td>\n",
       "      <td>and  and</td>\n",
       "      <td>2</td>\n",
       "    </tr>\n",
       "    <tr>\n",
       "      <th>1</th>\n",
       "      <td>3800</td>\n",
       "      <td>48752</td>\n",
       "      <td>16-03-2020</td>\n",
       "      <td>advice Talk to your neighbours family to excha...</td>\n",
       "      <td>Positive</td>\n",
       "      <td>advice talk to your neighbours family to excha...</td>\n",
       "      <td>3</td>\n",
       "    </tr>\n",
       "    <tr>\n",
       "      <th>2</th>\n",
       "      <td>3801</td>\n",
       "      <td>48753</td>\n",
       "      <td>16-03-2020</td>\n",
       "      <td>Coronavirus Australia: Woolworths to give elde...</td>\n",
       "      <td>Positive</td>\n",
       "      <td>coronavirus australia woolworths to give elder...</td>\n",
       "      <td>3</td>\n",
       "    </tr>\n",
       "    <tr>\n",
       "      <th>3</th>\n",
       "      <td>3802</td>\n",
       "      <td>48754</td>\n",
       "      <td>16-03-2020</td>\n",
       "      <td>My food stock is not the only one which is emp...</td>\n",
       "      <td>Positive</td>\n",
       "      <td>my food stock is not the only one which is emp...</td>\n",
       "      <td>3</td>\n",
       "    </tr>\n",
       "    <tr>\n",
       "      <th>4</th>\n",
       "      <td>3803</td>\n",
       "      <td>48755</td>\n",
       "      <td>16-03-2020</td>\n",
       "      <td>Me, ready to go at supermarket during the #COV...</td>\n",
       "      <td>Extremely Negative</td>\n",
       "      <td>me ready to go at supermarket during the covid...</td>\n",
       "      <td>0</td>\n",
       "    </tr>\n",
       "  </tbody>\n",
       "</table>\n",
       "</div>"
      ],
      "text/plain": [
       "   UserName  ScreenName     TweetAt  \\\n",
       "0      3799       48751  16-03-2020   \n",
       "1      3800       48752  16-03-2020   \n",
       "2      3801       48753  16-03-2020   \n",
       "3      3802       48754  16-03-2020   \n",
       "4      3803       48755  16-03-2020   \n",
       "\n",
       "                                       OriginalTweet           Sentiment  \\\n",
       "0  @MeNyrbie @Phil_Gahan @Chrisitv https://t.co/i...             Neutral   \n",
       "1  advice Talk to your neighbours family to excha...            Positive   \n",
       "2  Coronavirus Australia: Woolworths to give elde...            Positive   \n",
       "3  My food stock is not the only one which is emp...            Positive   \n",
       "4  Me, ready to go at supermarket during the #COV...  Extremely Negative   \n",
       "\n",
       "                                        cleaned_text  label  \n",
       "0                                           and  and      2  \n",
       "1  advice talk to your neighbours family to excha...      3  \n",
       "2  coronavirus australia woolworths to give elder...      3  \n",
       "3  my food stock is not the only one which is emp...      3  \n",
       "4  me ready to go at supermarket during the covid...      0  "
      ]
     },
     "execution_count": 12,
     "metadata": {},
     "output_type": "execute_result"
    }
   ],
   "source": [
    "df.head()"
   ]
  },
  {
   "cell_type": "markdown",
   "metadata": {},
   "source": [
    "<a id=\"1\"></a>\n",
    "# <div style=\"text-align:center; border-radius:15px 50px; padding:15px; color:white; margin:0; font-size:100%; font-family:Pacifico; background-color:#0ce90f; overflow:hidden\"><b>Vectorizing & Padding</b></div>"
   ]
  },
  {
   "cell_type": "code",
   "execution_count": 13,
   "metadata": {
    "execution": {
     "iopub.execute_input": "2025-05-12T21:31:38.177634Z",
     "iopub.status.busy": "2025-05-12T21:31:38.177292Z",
     "iopub.status.idle": "2025-05-12T21:31:39.932429Z",
     "shell.execute_reply": "2025-05-12T21:31:39.931610Z",
     "shell.execute_reply.started": "2025-05-12T21:31:38.177591Z"
    },
    "trusted": true
   },
   "outputs": [],
   "source": [
    "# 4. Tokenization\n",
    "MAX_VOCAB = 20000\n",
    "MAX_LEN = 100\n",
    "\n",
    "tokenizer = Tokenizer(num_words=MAX_VOCAB, oov_token=\"<OOV>\")\n",
    "tokenizer.fit_on_texts(df['cleaned_text'])\n",
    "sequences = tokenizer.texts_to_sequences(df['cleaned_text'])\n",
    "padded_sequences = pad_sequences(sequences, maxlen=MAX_LEN, padding='post', truncating='post')"
   ]
  },
  {
   "cell_type": "markdown",
   "metadata": {},
   "source": [
    "<a id=\"1\"></a>\n",
    "# <div style=\"text-align:center; border-radius:15px 50px; padding:15px; color:white; margin:0; font-size:100%; font-family:Pacifico; background-color:#0ce90f; overflow:hidden\"><b>Loading Glove Embedding</b></div>"
   ]
  },
  {
   "cell_type": "code",
   "execution_count": 14,
   "metadata": {
    "execution": {
     "iopub.execute_input": "2025-05-12T21:31:39.933888Z",
     "iopub.status.busy": "2025-05-12T21:31:39.933343Z",
     "iopub.status.idle": "2025-05-12T21:36:28.763715Z",
     "shell.execute_reply": "2025-05-12T21:36:28.762735Z",
     "shell.execute_reply.started": "2025-05-12T21:31:39.933840Z"
    },
    "trusted": true
   },
   "outputs": [
    {
     "name": "stdout",
     "output_type": "stream",
     "text": [
      "--2025-05-12 21:31:39--  http://nlp.stanford.edu/data/glove.6B.zip\n",
      "Resolving nlp.stanford.edu (nlp.stanford.edu)... 171.64.67.140\n",
      "Connecting to nlp.stanford.edu (nlp.stanford.edu)|171.64.67.140|:80... connected.\n",
      "HTTP request sent, awaiting response... 302 Found\n",
      "Location: https://nlp.stanford.edu/data/glove.6B.zip [following]\n",
      "--2025-05-12 21:31:40--  https://nlp.stanford.edu/data/glove.6B.zip\n",
      "Connecting to nlp.stanford.edu (nlp.stanford.edu)|171.64.67.140|:443... connected.\n",
      "HTTP request sent, awaiting response... 301 Moved Permanently\n",
      "Location: https://downloads.cs.stanford.edu/nlp/data/glove.6B.zip [following]\n",
      "--2025-05-12 21:31:40--  https://downloads.cs.stanford.edu/nlp/data/glove.6B.zip\n",
      "Resolving downloads.cs.stanford.edu (downloads.cs.stanford.edu)... 171.64.64.22\n",
      "Connecting to downloads.cs.stanford.edu (downloads.cs.stanford.edu)|171.64.64.22|:443... connected.\n",
      "HTTP request sent, awaiting response... 200 OK\n",
      "Length: 862182613 (822M) [application/zip]\n",
      "Saving to: ‘glove.6B.zip.1’\n",
      "\n",
      "glove.6B.zip.1      100%[===================>] 822.24M  5.01MB/s    in 2m 39s  \n",
      "\n",
      "2025-05-12 21:34:19 (5.18 MB/s) - ‘glove.6B.zip.1’ saved [862182613/862182613]\n",
      "\n",
      "Archive:  glove.6B.zip\n",
      "replace glove.6B.50d.txt? [y]es, [n]o, [A]ll, [N]one, [r]ename: ^C\n"
     ]
    }
   ],
   "source": [
    "!wget http://nlp.stanford.edu/data/glove.6B.zip\n",
    "!unzip glove.6B.zip"
   ]
  },
  {
   "cell_type": "code",
   "execution_count": null,
   "metadata": {
    "execution": {
     "iopub.status.busy": "2025-05-12T21:36:52.344680Z",
     "iopub.status.idle": "2025-05-12T21:36:52.345024Z",
     "shell.execute_reply": "2025-05-12T21:36:52.344875Z",
     "shell.execute_reply.started": "2025-05-12T21:36:52.344843Z"
    },
    "trusted": true
   },
   "outputs": [],
   "source": [
    "embedding_index = {}\n",
    "embedding_dim = 300\n",
    "with open(\"glove.6B.300d.txt\", encoding='utf8') as f:\n",
    "    for line in f:\n",
    "        values = line.split()\n",
    "        word = values[0]\n",
    "        vector = np.asarray(values[1:], dtype='float32')\n",
    "        embedding_index[word] = vector"
   ]
  },
  {
   "cell_type": "code",
   "execution_count": 16,
   "metadata": {
    "execution": {
     "iopub.execute_input": "2025-05-12T21:36:51.026488Z",
     "iopub.status.busy": "2025-05-12T21:36:51.026272Z",
     "iopub.status.idle": "2025-05-12T21:36:51.103214Z",
     "shell.execute_reply": "2025-05-12T21:36:51.102650Z",
     "shell.execute_reply.started": "2025-05-12T21:36:51.026472Z"
    },
    "trusted": true
   },
   "outputs": [],
   "source": [
    "word_index = tokenizer.word_index\n",
    "vocab_size = min(MAX_VOCAB, len(word_index) + 1)\n",
    "embedding_matrix = np.zeros((vocab_size, embedding_dim))\n",
    "for word, i in word_index.items():\n",
    "    if i < MAX_VOCAB:\n",
    "        vec = embedding_index.get(word)\n",
    "        if vec is not None:\n",
    "            embedding_matrix[i] = vec"
   ]
  },
  {
   "cell_type": "code",
   "execution_count": 17,
   "metadata": {
    "execution": {
     "iopub.execute_input": "2025-05-12T21:36:51.104179Z",
     "iopub.status.busy": "2025-05-12T21:36:51.103956Z",
     "iopub.status.idle": "2025-05-12T21:36:51.135618Z",
     "shell.execute_reply": "2025-05-12T21:36:51.134904Z",
     "shell.execute_reply.started": "2025-05-12T21:36:51.104157Z"
    },
    "trusted": true
   },
   "outputs": [],
   "source": [
    "X_train, X_test, y_train, y_test = train_test_split(\n",
    "    padded_sequences, df['label'], test_size=0.2, random_state=42, stratify=df['label']\n",
    ")"
   ]
  },
  {
   "cell_type": "markdown",
   "metadata": {},
   "source": [
    "<a id=\"1\"></a>\n",
    "# <div style=\"text-align:center; border-radius:15px 50px; padding:15px; color:white; margin:0; font-size:100%; font-family:Pacifico; background-color:#0ce90f; overflow:hidden\"><b>Model Building</b></div>"
   ]
  },
  {
   "cell_type": "code",
   "execution_count": 18,
   "metadata": {
    "execution": {
     "iopub.execute_input": "2025-05-12T21:36:51.136764Z",
     "iopub.status.busy": "2025-05-12T21:36:51.136498Z",
     "iopub.status.idle": "2025-05-12T21:36:52.317410Z",
     "shell.execute_reply": "2025-05-12T21:36:52.316890Z",
     "shell.execute_reply.started": "2025-05-12T21:36:51.136736Z"
    },
    "trusted": true
   },
   "outputs": [
    {
     "name": "stderr",
     "output_type": "stream",
     "text": [
      "/usr/local/lib/python3.11/dist-packages/keras/src/layers/core/embedding.py:90: UserWarning: Argument `input_length` is deprecated. Just remove it.\n",
      "  warnings.warn(\n",
      "I0000 00:00:1747085811.515274     331 gpu_device.cc:2022] Created device /job:localhost/replica:0/task:0/device:GPU:0 with 13942 MB memory:  -> device: 0, name: Tesla T4, pci bus id: 0000:00:04.0, compute capability: 7.5\n",
      "I0000 00:00:1747085811.515956     331 gpu_device.cc:2022] Created device /job:localhost/replica:0/task:0/device:GPU:1 with 13942 MB memory:  -> device: 1, name: Tesla T4, pci bus id: 0000:00:05.0, compute capability: 7.5\n"
     ]
    },
    {
     "data": {
      "text/html": [
       "<pre style=\"white-space:pre;overflow-x:auto;line-height:normal;font-family:Menlo,'DejaVu Sans Mono',consolas,'Courier New',monospace\"><span style=\"font-weight: bold\">Model: \"sequential\"</span>\n",
       "</pre>\n"
      ],
      "text/plain": [
       "\u001b[1mModel: \"sequential\"\u001b[0m\n"
      ]
     },
     "metadata": {},
     "output_type": "display_data"
    },
    {
     "data": {
      "text/html": [
       "<pre style=\"white-space:pre;overflow-x:auto;line-height:normal;font-family:Menlo,'DejaVu Sans Mono',consolas,'Courier New',monospace\">┏━━━━━━━━━━━━━━━━━━━━━━━━━━━━━━━━━━━━━━┳━━━━━━━━━━━━━━━━━━━━━━━━━━━━━┳━━━━━━━━━━━━━━━━━┓\n",
       "┃<span style=\"font-weight: bold\"> Layer (type)                         </span>┃<span style=\"font-weight: bold\"> Output Shape                </span>┃<span style=\"font-weight: bold\">         Param # </span>┃\n",
       "┡━━━━━━━━━━━━━━━━━━━━━━━━━━━━━━━━━━━━━━╇━━━━━━━━━━━━━━━━━━━━━━━━━━━━━╇━━━━━━━━━━━━━━━━━┩\n",
       "│ embedding (<span style=\"color: #0087ff; text-decoration-color: #0087ff\">Embedding</span>)                │ ?                           │       <span style=\"color: #00af00; text-decoration-color: #00af00\">6,000,000</span> │\n",
       "├──────────────────────────────────────┼─────────────────────────────┼─────────────────┤\n",
       "│ bidirectional (<span style=\"color: #0087ff; text-decoration-color: #0087ff\">Bidirectional</span>)        │ ?                           │     <span style=\"color: #00af00; text-decoration-color: #00af00\">0</span> (unbuilt) │\n",
       "├──────────────────────────────────────┼─────────────────────────────┼─────────────────┤\n",
       "│ dropout (<span style=\"color: #0087ff; text-decoration-color: #0087ff\">Dropout</span>)                    │ ?                           │     <span style=\"color: #00af00; text-decoration-color: #00af00\">0</span> (unbuilt) │\n",
       "├──────────────────────────────────────┼─────────────────────────────┼─────────────────┤\n",
       "│ dense (<span style=\"color: #0087ff; text-decoration-color: #0087ff\">Dense</span>)                        │ ?                           │     <span style=\"color: #00af00; text-decoration-color: #00af00\">0</span> (unbuilt) │\n",
       "└──────────────────────────────────────┴─────────────────────────────┴─────────────────┘\n",
       "</pre>\n"
      ],
      "text/plain": [
       "┏━━━━━━━━━━━━━━━━━━━━━━━━━━━━━━━━━━━━━━┳━━━━━━━━━━━━━━━━━━━━━━━━━━━━━┳━━━━━━━━━━━━━━━━━┓\n",
       "┃\u001b[1m \u001b[0m\u001b[1mLayer (type)                        \u001b[0m\u001b[1m \u001b[0m┃\u001b[1m \u001b[0m\u001b[1mOutput Shape               \u001b[0m\u001b[1m \u001b[0m┃\u001b[1m \u001b[0m\u001b[1m        Param #\u001b[0m\u001b[1m \u001b[0m┃\n",
       "┡━━━━━━━━━━━━━━━━━━━━━━━━━━━━━━━━━━━━━━╇━━━━━━━━━━━━━━━━━━━━━━━━━━━━━╇━━━━━━━━━━━━━━━━━┩\n",
       "│ embedding (\u001b[38;5;33mEmbedding\u001b[0m)                │ ?                           │       \u001b[38;5;34m6,000,000\u001b[0m │\n",
       "├──────────────────────────────────────┼─────────────────────────────┼─────────────────┤\n",
       "│ bidirectional (\u001b[38;5;33mBidirectional\u001b[0m)        │ ?                           │     \u001b[38;5;34m0\u001b[0m (unbuilt) │\n",
       "├──────────────────────────────────────┼─────────────────────────────┼─────────────────┤\n",
       "│ dropout (\u001b[38;5;33mDropout\u001b[0m)                    │ ?                           │     \u001b[38;5;34m0\u001b[0m (unbuilt) │\n",
       "├──────────────────────────────────────┼─────────────────────────────┼─────────────────┤\n",
       "│ dense (\u001b[38;5;33mDense\u001b[0m)                        │ ?                           │     \u001b[38;5;34m0\u001b[0m (unbuilt) │\n",
       "└──────────────────────────────────────┴─────────────────────────────┴─────────────────┘\n"
      ]
     },
     "metadata": {},
     "output_type": "display_data"
    },
    {
     "data": {
      "text/html": [
       "<pre style=\"white-space:pre;overflow-x:auto;line-height:normal;font-family:Menlo,'DejaVu Sans Mono',consolas,'Courier New',monospace\"><span style=\"font-weight: bold\"> Total params: </span><span style=\"color: #00af00; text-decoration-color: #00af00\">6,000,000</span> (22.89 MB)\n",
       "</pre>\n"
      ],
      "text/plain": [
       "\u001b[1m Total params: \u001b[0m\u001b[38;5;34m6,000,000\u001b[0m (22.89 MB)\n"
      ]
     },
     "metadata": {},
     "output_type": "display_data"
    },
    {
     "data": {
      "text/html": [
       "<pre style=\"white-space:pre;overflow-x:auto;line-height:normal;font-family:Menlo,'DejaVu Sans Mono',consolas,'Courier New',monospace\"><span style=\"font-weight: bold\"> Trainable params: </span><span style=\"color: #00af00; text-decoration-color: #00af00\">6,000,000</span> (22.89 MB)\n",
       "</pre>\n"
      ],
      "text/plain": [
       "\u001b[1m Trainable params: \u001b[0m\u001b[38;5;34m6,000,000\u001b[0m (22.89 MB)\n"
      ]
     },
     "metadata": {},
     "output_type": "display_data"
    },
    {
     "data": {
      "text/html": [
       "<pre style=\"white-space:pre;overflow-x:auto;line-height:normal;font-family:Menlo,'DejaVu Sans Mono',consolas,'Courier New',monospace\"><span style=\"font-weight: bold\"> Non-trainable params: </span><span style=\"color: #00af00; text-decoration-color: #00af00\">0</span> (0.00 B)\n",
       "</pre>\n"
      ],
      "text/plain": [
       "\u001b[1m Non-trainable params: \u001b[0m\u001b[38;5;34m0\u001b[0m (0.00 B)\n"
      ]
     },
     "metadata": {},
     "output_type": "display_data"
    }
   ],
   "source": [
    "model = Sequential()\n",
    "model.add(Embedding(input_dim=vocab_size,\n",
    "                    output_dim=embedding_dim,\n",
    "                    weights=[embedding_matrix],\n",
    "                    input_length=MAX_LEN,\n",
    "                    trainable=True))\n",
    "model.add(Bidirectional(LSTM(128, dropout=0.2, recurrent_dropout=0.2)))\n",
    "model.add(Dropout(0.5))\n",
    "model.add(Dense(5, activation='softmax'))  # 5 sentiment classes\n",
    "\n",
    "model.compile(loss='sparse_categorical_crossentropy', optimizer='adam', metrics=['accuracy'])\n",
    "model.summary()"
   ]
  },
  {
   "cell_type": "code",
   "execution_count": 19,
   "metadata": {
    "execution": {
     "iopub.execute_input": "2025-05-12T21:36:52.318474Z",
     "iopub.status.busy": "2025-05-12T21:36:52.318211Z",
     "iopub.status.idle": "2025-05-12T21:36:52.322445Z",
     "shell.execute_reply": "2025-05-12T21:36:52.321897Z",
     "shell.execute_reply.started": "2025-05-12T21:36:52.318451Z"
    },
    "trusted": true
   },
   "outputs": [],
   "source": [
    "lr_scheduler = ReduceLROnPlateau(\n",
    "    monitor='val_loss',\n",
    "    factor=0.5,\n",
    "    patience=5,\n",
    "    verbose=1,\n",
    "    min_lr=1e-6\n",
    ")  # Define learning rate scheduler\n",
    "\n",
    "\n",
    "\n",
    "early_stop = EarlyStopping(\n",
    "    monitor='val_loss',\n",
    "    patience=10,\n",
    "    restore_best_weights=True,\n",
    "    verbose=1\n",
    ")  # Define early stopping callback"
   ]
  },
  {
   "cell_type": "markdown",
   "metadata": {},
   "source": [
    "<a id=\"1\"></a>\n",
    "# <div style=\"text-align:center; border-radius:15px 50px; padding:15px; color:white; margin:0; font-size:100%; font-family:Pacifico; background-color:#0ce90f; overflow:hidden\"><b>Model Training</b></div>"
   ]
  },
  {
   "cell_type": "code",
   "execution_count": 21,
   "metadata": {
    "execution": {
     "iopub.execute_input": "2025-05-12T21:37:05.843524Z",
     "iopub.status.busy": "2025-05-12T21:37:05.842979Z",
     "iopub.status.idle": "2025-05-12T21:53:28.121596Z",
     "shell.execute_reply": "2025-05-12T21:53:28.121001Z",
     "shell.execute_reply.started": "2025-05-12T21:37:05.843503Z"
    },
    "trusted": true
   },
   "outputs": [
    {
     "name": "stdout",
     "output_type": "stream",
     "text": [
      "Epoch 1/50\n",
      "\u001b[1m463/463\u001b[0m \u001b[32m━━━━━━━━━━━━━━━━━━━━\u001b[0m\u001b[37m\u001b[0m \u001b[1m77s\u001b[0m 151ms/step - accuracy: 0.3759 - loss: 1.3975 - val_accuracy: 0.6477 - val_loss: 0.8793 - learning_rate: 0.0010\n",
      "Epoch 2/50\n",
      "\u001b[1m463/463\u001b[0m \u001b[32m━━━━━━━━━━━━━━━━━━━━\u001b[0m\u001b[37m\u001b[0m \u001b[1m69s\u001b[0m 150ms/step - accuracy: 0.6998 - loss: 0.8010 - val_accuracy: 0.7662 - val_loss: 0.6567 - learning_rate: 0.0010\n",
      "Epoch 3/50\n",
      "\u001b[1m463/463\u001b[0m \u001b[32m━━━━━━━━━━━━━━━━━━━━\u001b[0m\u001b[37m\u001b[0m \u001b[1m70s\u001b[0m 150ms/step - accuracy: 0.7905 - loss: 0.5903 - val_accuracy: 0.7877 - val_loss: 0.6048 - learning_rate: 0.0010\n",
      "Epoch 4/50\n",
      "\u001b[1m463/463\u001b[0m \u001b[32m━━━━━━━━━━━━━━━━━━━━\u001b[0m\u001b[37m\u001b[0m \u001b[1m69s\u001b[0m 150ms/step - accuracy: 0.8426 - loss: 0.4658 - val_accuracy: 0.7950 - val_loss: 0.5850 - learning_rate: 0.0010\n",
      "Epoch 5/50\n",
      "\u001b[1m463/463\u001b[0m \u001b[32m━━━━━━━━━━━━━━━━━━━━\u001b[0m\u001b[37m\u001b[0m \u001b[1m70s\u001b[0m 150ms/step - accuracy: 0.8708 - loss: 0.3899 - val_accuracy: 0.7917 - val_loss: 0.6190 - learning_rate: 0.0010\n",
      "Epoch 6/50\n",
      "\u001b[1m463/463\u001b[0m \u001b[32m━━━━━━━━━━━━━━━━━━━━\u001b[0m\u001b[37m\u001b[0m \u001b[1m70s\u001b[0m 151ms/step - accuracy: 0.8965 - loss: 0.3103 - val_accuracy: 0.7899 - val_loss: 0.6341 - learning_rate: 0.0010\n",
      "Epoch 7/50\n",
      "\u001b[1m463/463\u001b[0m \u001b[32m━━━━━━━━━━━━━━━━━━━━\u001b[0m\u001b[37m\u001b[0m \u001b[1m69s\u001b[0m 150ms/step - accuracy: 0.9143 - loss: 0.2600 - val_accuracy: 0.7807 - val_loss: 0.7034 - learning_rate: 0.0010\n",
      "Epoch 8/50\n",
      "\u001b[1m463/463\u001b[0m \u001b[32m━━━━━━━━━━━━━━━━━━━━\u001b[0m\u001b[37m\u001b[0m \u001b[1m70s\u001b[0m 150ms/step - accuracy: 0.9283 - loss: 0.2166 - val_accuracy: 0.7783 - val_loss: 0.7672 - learning_rate: 0.0010\n",
      "Epoch 9/50\n",
      "\u001b[1m463/463\u001b[0m \u001b[32m━━━━━━━━━━━━━━━━━━━━\u001b[0m\u001b[37m\u001b[0m \u001b[1m0s\u001b[0m 146ms/step - accuracy: 0.9414 - loss: 0.1782\n",
      "Epoch 9: ReduceLROnPlateau reducing learning rate to 0.0005000000237487257.\n",
      "\u001b[1m463/463\u001b[0m \u001b[32m━━━━━━━━━━━━━━━━━━━━\u001b[0m\u001b[37m\u001b[0m \u001b[1m70s\u001b[0m 151ms/step - accuracy: 0.9414 - loss: 0.1782 - val_accuracy: 0.7777 - val_loss: 0.8250 - learning_rate: 0.0010\n",
      "Epoch 10/50\n",
      "\u001b[1m463/463\u001b[0m \u001b[32m━━━━━━━━━━━━━━━━━━━━\u001b[0m\u001b[37m\u001b[0m \u001b[1m70s\u001b[0m 151ms/step - accuracy: 0.9544 - loss: 0.1408 - val_accuracy: 0.7707 - val_loss: 0.8963 - learning_rate: 5.0000e-04\n",
      "Epoch 11/50\n",
      "\u001b[1m463/463\u001b[0m \u001b[32m━━━━━━━━━━━━━━━━━━━━\u001b[0m\u001b[37m\u001b[0m \u001b[1m70s\u001b[0m 152ms/step - accuracy: 0.9605 - loss: 0.1195 - val_accuracy: 0.7716 - val_loss: 0.9507 - learning_rate: 5.0000e-04\n",
      "Epoch 12/50\n",
      "\u001b[1m463/463\u001b[0m \u001b[32m━━━━━━━━━━━━━━━━━━━━\u001b[0m\u001b[37m\u001b[0m \u001b[1m70s\u001b[0m 150ms/step - accuracy: 0.9638 - loss: 0.1124 - val_accuracy: 0.7683 - val_loss: 1.0213 - learning_rate: 5.0000e-04\n",
      "Epoch 13/50\n",
      "\u001b[1m463/463\u001b[0m \u001b[32m━━━━━━━━━━━━━━━━━━━━\u001b[0m\u001b[37m\u001b[0m \u001b[1m70s\u001b[0m 150ms/step - accuracy: 0.9700 - loss: 0.0929 - val_accuracy: 0.7665 - val_loss: 1.0491 - learning_rate: 5.0000e-04\n",
      "Epoch 14/50\n",
      "\u001b[1m463/463\u001b[0m \u001b[32m━━━━━━━━━━━━━━━━━━━━\u001b[0m\u001b[37m\u001b[0m \u001b[1m0s\u001b[0m 145ms/step - accuracy: 0.9725 - loss: 0.0860\n",
      "Epoch 14: ReduceLROnPlateau reducing learning rate to 0.0002500000118743628.\n",
      "\u001b[1m463/463\u001b[0m \u001b[32m━━━━━━━━━━━━━━━━━━━━\u001b[0m\u001b[37m\u001b[0m \u001b[1m70s\u001b[0m 150ms/step - accuracy: 0.9725 - loss: 0.0860 - val_accuracy: 0.7659 - val_loss: 1.0546 - learning_rate: 5.0000e-04\n",
      "Epoch 14: early stopping\n",
      "Restoring model weights from the end of the best epoch: 4.\n"
     ]
    },
    {
     "data": {
      "text/plain": [
       "<keras.src.callbacks.history.History at 0x79f106a98410>"
      ]
     },
     "execution_count": 21,
     "metadata": {},
     "output_type": "execute_result"
    }
   ],
   "source": [
    "model.fit(X_train, y_train, epochs=50, batch_size=64, validation_split=0.1,callbacks=[lr_scheduler, early_stop])"
   ]
  },
  {
   "cell_type": "markdown",
   "metadata": {},
   "source": [
    "<a id=\"1\"></a>\n",
    "# <div style=\"text-align:center; border-radius:15px 50px; padding:15px; color:white; margin:0; font-size:100%; font-family:Pacifico; background-color:#0ce90f; overflow:hidden\"><b>Classification Report</b></div>"
   ]
  },
  {
   "cell_type": "code",
   "execution_count": 22,
   "metadata": {
    "execution": {
     "iopub.execute_input": "2025-05-12T21:53:28.123307Z",
     "iopub.status.busy": "2025-05-12T21:53:28.123048Z",
     "iopub.status.idle": "2025-05-12T21:53:41.168449Z",
     "shell.execute_reply": "2025-05-12T21:53:41.167728Z",
     "shell.execute_reply.started": "2025-05-12T21:53:28.123289Z"
    },
    "trusted": true
   },
   "outputs": [
    {
     "name": "stdout",
     "output_type": "stream",
     "text": [
      "\u001b[1m258/258\u001b[0m \u001b[32m━━━━━━━━━━━━━━━━━━━━\u001b[0m\u001b[37m\u001b[0m \u001b[1m13s\u001b[0m 48ms/step\n"
     ]
    }
   ],
   "source": [
    "y_pred = np.argmax(model.predict(X_test), axis=1)\n"
   ]
  },
  {
   "cell_type": "code",
   "execution_count": 23,
   "metadata": {
    "execution": {
     "iopub.execute_input": "2025-05-12T21:53:41.169537Z",
     "iopub.status.busy": "2025-05-12T21:53:41.169267Z",
     "iopub.status.idle": "2025-05-12T21:53:41.173945Z",
     "shell.execute_reply": "2025-05-12T21:53:41.173178Z",
     "shell.execute_reply.started": "2025-05-12T21:53:41.169519Z"
    },
    "trusted": true
   },
   "outputs": [],
   "source": [
    "reverse_mapping = {v: k for k, v in sentiment_mapping.items()}\n",
    "target_names = [reverse_mapping[i] for i in sorted(reverse_mapping)]"
   ]
  },
  {
   "cell_type": "code",
   "execution_count": 24,
   "metadata": {
    "execution": {
     "iopub.execute_input": "2025-05-12T21:53:41.175803Z",
     "iopub.status.busy": "2025-05-12T21:53:41.175505Z",
     "iopub.status.idle": "2025-05-12T21:53:41.196775Z",
     "shell.execute_reply": "2025-05-12T21:53:41.196155Z",
     "shell.execute_reply.started": "2025-05-12T21:53:41.175784Z"
    },
    "trusted": true
   },
   "outputs": [
    {
     "name": "stdout",
     "output_type": "stream",
     "text": [
      "                    precision    recall  f1-score   support\n",
      "\n",
      "Extremely Negative       0.82      0.78      0.80      1096\n",
      "          Negative       0.69      0.79      0.74      1983\n",
      "           Neutral       0.90      0.79      0.84      1543\n",
      "          Positive       0.76      0.75      0.76      2285\n",
      "Extremely Positive       0.82      0.82      0.82      1325\n",
      "\n",
      "          accuracy                           0.78      8232\n",
      "         macro avg       0.80      0.78      0.79      8232\n",
      "      weighted avg       0.79      0.78      0.78      8232\n",
      "\n"
     ]
    }
   ],
   "source": [
    "print(classification_report(y_test, y_pred, target_names=target_names))"
   ]
  },
  {
   "cell_type": "code",
   "execution_count": 25,
   "metadata": {
    "execution": {
     "iopub.execute_input": "2025-05-12T21:53:57.172834Z",
     "iopub.status.busy": "2025-05-12T21:53:57.172138Z",
     "iopub.status.idle": "2025-05-12T21:53:57.176347Z",
     "shell.execute_reply": "2025-05-12T21:53:57.175523Z",
     "shell.execute_reply.started": "2025-05-12T21:53:57.172807Z"
    },
    "trusted": true
   },
   "outputs": [],
   "source": [
    "# Define sentiment reverse mapping\n",
    "reverse_mapping = {\n",
    "    0: \"Extremely Negative\",\n",
    "    1: \"Negative\",\n",
    "    2: \"Neutral\",\n",
    "    3: \"Positive\",\n",
    "    4: \"Extremely Positive\"\n",
    "}"
   ]
  },
  {
   "cell_type": "markdown",
   "metadata": {},
   "source": [
    "<a id=\"1\"></a>\n",
    "# <div style=\"text-align:center; border-radius:15px 50px; padding:15px; color:white; margin:0; font-size:100%; font-family:Pacifico; background-color:#0ce90f; overflow:hidden\"><b>Making Test</b></div>"
   ]
  },
  {
   "cell_type": "code",
   "execution_count": 26,
   "metadata": {
    "execution": {
     "iopub.execute_input": "2025-05-12T21:54:13.406685Z",
     "iopub.status.busy": "2025-05-12T21:54:13.406132Z",
     "iopub.status.idle": "2025-05-12T21:54:13.411318Z",
     "shell.execute_reply": "2025-05-12T21:54:13.410487Z",
     "shell.execute_reply.started": "2025-05-12T21:54:13.406660Z"
    },
    "trusted": true
   },
   "outputs": [],
   "source": [
    "# Function to preprocess and predict sentiment\n",
    "def predict_sentiment(text, tokenizer, model):\n",
    "    # Clean text\n",
    "    def clean_text(text):\n",
    "        text = re.sub(r\"http\\S+|@\\S+|[^A-Za-z\\s]\", \"\", str(text).lower())\n",
    "        return text.strip()\n",
    "    \n",
    "    cleaned = clean_text(text)\n",
    "    \n",
    "    # Tokenize & pad\n",
    "    seq = tokenizer.texts_to_sequences([cleaned])\n",
    "    padded = pad_sequences(seq, maxlen=MAX_LEN, padding='post', truncating='post')\n",
    "    \n",
    "    # Predict\n",
    "    pred = model.predict(padded)\n",
    "    pred_class = np.argmax(pred, axis=1)[0]\n",
    "    \n",
    "    return reverse_mapping[pred_class]"
   ]
  },
  {
   "cell_type": "code",
   "execution_count": 29,
   "metadata": {
    "execution": {
     "iopub.execute_input": "2025-05-12T21:57:39.847189Z",
     "iopub.status.busy": "2025-05-12T21:57:39.846621Z",
     "iopub.status.idle": "2025-05-12T21:57:40.808385Z",
     "shell.execute_reply": "2025-05-12T21:57:40.807746Z",
     "shell.execute_reply.started": "2025-05-12T21:57:39.847157Z"
    },
    "trusted": true
   },
   "outputs": [
    {
     "name": "stdout",
     "output_type": "stream",
     "text": [
      "\u001b[1m1/1\u001b[0m \u001b[32m━━━━━━━━━━━━━━━━━━━━\u001b[0m\u001b[37m\u001b[0m \u001b[1m0s\u001b[0m 55ms/step\n",
      "Text: The vaccine rollout is going smoothly! Finally some hope for the future. #COVID19 #Vaccination\n",
      "Predicted Sentiment: Positive\n",
      "\n",
      "\u001b[1m1/1\u001b[0m \u001b[32m━━━━━━━━━━━━━━━━━━━━\u001b[0m\u001b[37m\u001b[0m \u001b[1m0s\u001b[0m 55ms/step\n",
      "Text: I can’t believe how long this pandemic is lasting. I’m starting to lose hope. #COVID19 #pandemic\n",
      "Predicted Sentiment: Positive\n",
      "\n",
      "\u001b[1m1/1\u001b[0m \u001b[32m━━━━━━━━━━━━━━━━━━━━\u001b[0m\u001b[37m\u001b[0m \u001b[1m0s\u001b[0m 55ms/step\n",
      "Text: We all need to stay strong, we will get through this. Stay safe everyone! #StayAtHome #COVID19\n",
      "Predicted Sentiment: Extremely Positive\n",
      "\n",
      "\u001b[1m1/1\u001b[0m \u001b[32m━━━━━━━━━━━━━━━━━━━━\u001b[0m\u001b[37m\u001b[0m \u001b[1m0s\u001b[0m 62ms/step\n",
      "Text: It’s getting worse again. Hospitals are full, and the situation is just terrifying. #COVID19\n",
      "Predicted Sentiment: Extremely Negative\n",
      "\n",
      "\u001b[1m1/1\u001b[0m \u001b[32m━━━━━━━━━━━━━━━━━━━━\u001b[0m\u001b[37m\u001b[0m \u001b[1m0s\u001b[0m 55ms/step\n",
      "Text: The lockdown has been really tough on mental health. I miss seeing my friends. #COVID19 #MentalHealth\n",
      "Predicted Sentiment: Positive\n",
      "\n",
      "\u001b[1m1/1\u001b[0m \u001b[32m━━━━━━━━━━━━━━━━━━━━\u001b[0m\u001b[37m\u001b[0m \u001b[1m0s\u001b[0m 54ms/step\n",
      "Text: I’m tired of the endless restrictions. When will things go back to normal? #COVID19\n",
      "Predicted Sentiment: Negative\n",
      "\n",
      "\u001b[1m1/1\u001b[0m \u001b[32m━━━━━━━━━━━━━━━━━━━━\u001b[0m\u001b[37m\u001b[0m \u001b[1m0s\u001b[0m 55ms/step\n",
      "Text: The new variant is spreading rapidly, and it’s concerning. #COVID19 #NewVariant\n",
      "Predicted Sentiment: Neutral\n",
      "\n",
      "\u001b[1m1/1\u001b[0m \u001b[32m━━━━━━━━━━━━━━━━━━━━\u001b[0m\u001b[37m\u001b[0m \u001b[1m0s\u001b[0m 53ms/step\n",
      "Text: I just got my second dose of the vaccine! Feeling relieved and hopeful. #Vaccinated #COVID19\n",
      "Predicted Sentiment: Extremely Positive\n",
      "\n",
      "\u001b[1m1/1\u001b[0m \u001b[32m━━━━━━━━━━━━━━━━━━━━\u001b[0m\u001b[37m\u001b[0m \u001b[1m0s\u001b[0m 55ms/step\n",
      "Text: I don’t understand why some people still refuse to wear masks. It’s for everyone’s safety. #COVID19\n",
      "Predicted Sentiment: Negative\n",
      "\n",
      "\u001b[1m1/1\u001b[0m \u001b[32m━━━━━━━━━━━━━━━━━━━━\u001b[0m\u001b[37m\u001b[0m \u001b[1m0s\u001b[0m 54ms/step\n",
      "Text: This is never going to end if people don’t start following guidelines. #COVID19 #pandemic\n",
      "Predicted Sentiment: Neutral\n",
      "\n"
     ]
    }
   ],
   "source": [
    "test_texts_covid19 = [\n",
    "    \"The vaccine rollout is going smoothly! Finally some hope for the future. #COVID19 #Vaccination\",\n",
    "    \"I can’t believe how long this pandemic is lasting. I’m starting to lose hope. #COVID19 #pandemic\",\n",
    "    \"We all need to stay strong, we will get through this. Stay safe everyone! #StayAtHome #COVID19\",\n",
    "    \"It’s getting worse again. Hospitals are full, and the situation is just terrifying. #COVID19\",\n",
    "    \"The lockdown has been really tough on mental health. I miss seeing my friends. #COVID19 #MentalHealth\",\n",
    "    \"I’m tired of the endless restrictions. When will things go back to normal? #COVID19\",\n",
    "    \"The new variant is spreading rapidly, and it’s concerning. #COVID19 #NewVariant\",\n",
    "    \"I just got my second dose of the vaccine! Feeling relieved and hopeful. #Vaccinated #COVID19\",\n",
    "    \"I don’t understand why some people still refuse to wear masks. It’s for everyone’s safety. #COVID19\",\n",
    "    \"This is never going to end if people don’t start following guidelines. #COVID19 #pandemic\"\n",
    "]\n",
    "\n",
    "for text in test_texts_covid19:\n",
    "    sentiment = predict_sentiment(text, tokenizer, model)\n",
    "    print(f\"Text: {text}\\nPredicted Sentiment: {sentiment}\\n\")"
   ]
  },
  {
   "cell_type": "markdown",
   "metadata": {},
   "source": [
    "<a id=\"1\"></a>\n",
    "# <div style=\"text-align:center; border-radius:15px 50px; padding:15px; color:white; margin:0; font-size:100%; font-family:Pacifico; background-color:#0ce90f; overflow:hidden\"><b>Thank You</b></div>"
   ]
  },
  {
   "cell_type": "code",
   "execution_count": null,
   "metadata": {
    "trusted": true
   },
   "outputs": [],
   "source": []
  }
 ],
 "metadata": {
  "kaggle": {
   "accelerator": "nvidiaTeslaT4",
   "dataSources": [
    {
     "datasetId": 863934,
     "sourceId": 1472453,
     "sourceType": "datasetVersion"
    }
   ],
   "dockerImageVersionId": 31011,
   "isGpuEnabled": true,
   "isInternetEnabled": true,
   "language": "python",
   "sourceType": "notebook"
  },
  "kernelspec": {
   "display_name": "Python 3",
   "language": "python",
   "name": "python3"
  },
  "language_info": {
   "codemirror_mode": {
    "name": "ipython",
    "version": 3
   },
   "file_extension": ".py",
   "mimetype": "text/x-python",
   "name": "python",
   "nbconvert_exporter": "python",
   "pygments_lexer": "ipython3",
   "version": "3.11.11"
  }
 },
 "nbformat": 4,
 "nbformat_minor": 4
}
